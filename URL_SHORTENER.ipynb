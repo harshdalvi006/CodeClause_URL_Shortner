{
  "nbformat": 4,
  "nbformat_minor": 0,
  "metadata": {
    "colab": {
      "provenance": []
    },
    "kernelspec": {
      "name": "python3",
      "display_name": "Python 3"
    },
    "language_info": {
      "name": "python"
    }
  },
  "cells": [
    {
      "cell_type": "markdown",
      "source": [
        "# **URL shortener**\n",
        "Project By: **HARSH D DALVI**\n",
        "\n"
      ],
      "metadata": {
        "id": "_1hURlAh24MH"
      }
    },
    {
      "cell_type": "code",
      "source": [
        "!pip install pyshorteners"
      ],
      "metadata": {
        "colab": {
          "base_uri": "https://localhost:8080/"
        },
        "id": "8MQOEE4g1wPJ",
        "outputId": "78e1e1d0-89a5-402a-a6a1-089ea1a4be6a"
      },
      "execution_count": 22,
      "outputs": [
        {
          "output_type": "stream",
          "name": "stdout",
          "text": [
            "Looking in indexes: https://pypi.org/simple, https://us-python.pkg.dev/colab-wheels/public/simple/\n",
            "Requirement already satisfied: pyshorteners in /usr/local/lib/python3.10/dist-packages (1.0.1)\n",
            "Requirement already satisfied: requests in /usr/local/lib/python3.10/dist-packages (from pyshorteners) (2.27.1)\n",
            "Requirement already satisfied: charset-normalizer~=2.0.0 in /usr/local/lib/python3.10/dist-packages (from requests->pyshorteners) (2.0.12)\n",
            "Requirement already satisfied: idna<4,>=2.5 in /usr/local/lib/python3.10/dist-packages (from requests->pyshorteners) (3.4)\n",
            "Requirement already satisfied: certifi>=2017.4.17 in /usr/local/lib/python3.10/dist-packages (from requests->pyshorteners) (2022.12.7)\n",
            "Requirement already satisfied: urllib3<1.27,>=1.21.1 in /usr/local/lib/python3.10/dist-packages (from requests->pyshorteners) (1.26.15)\n"
          ]
        }
      ]
    },
    {
      "cell_type": "code",
      "execution_count": 23,
      "metadata": {
        "colab": {
          "base_uri": "https://localhost:8080/"
        },
        "id": "pxO7Y1nxzwoA",
        "outputId": "18a08ad6-67a3-4323-ebfc-e369e2112c3c"
      },
      "outputs": [
        {
          "output_type": "stream",
          "name": "stdout",
          "text": [
            "Enter the url: https://www.nike.com/in/t/pegasus-40-road-running-shoes-ztffW8/FB7179-100\n",
            " \n",
            "shortenurl:-  https://tinyurl.com/2exdm8cd\n",
            "Press Any Key to Quit:- A\n",
            "SHORT_URL IS READY...THANK YOU!!\n"
          ]
        }
      ],
      "source": [
        "import pyshorteners  # import the library\n",
        "\n",
        "url = input('Enter the url: ')   # take input from the user i.e. the url which is to be converted into short url\n",
        "\n",
        "# creating a function to convert the long url into short\n",
        "# NOTE - it can also be done without a function but functions make a program easily understandable and editable\n",
        "\n",
        "def shortenurl(url):     \n",
        "    s = pyshorteners.Shortener()  # using shortener function of pyshortners\n",
        "    print(\"shortenurl:- \",s.tinyurl.short(url))  \n",
        "\n",
        "print(\" \")\n",
        "\n",
        "shortenurl(url) # calling the shortenurl function taht we just created also passing long url as parameter\n",
        "\n",
        "a = input(\"Press Any Key to Quit:- \")\n",
        "print(\"SHORT_URL IS READY...THANK YOU!!\")\n",
        "\n",
        "\n"
      ]
    }
  ]
}